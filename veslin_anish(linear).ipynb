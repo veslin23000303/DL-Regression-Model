{
  "nbformat": 4,
  "nbformat_minor": 0,
  "metadata": {
    "colab": {
      "provenance": []
    },
    "kernelspec": {
      "name": "python3",
      "display_name": "Python 3"
    },
    "language_info": {
      "name": "python"
    }
  },
  "cells": [
    {
      "cell_type": "code",
      "execution_count": 1,
      "metadata": {
        "id": "FXUWZ26wQNk-"
      },
      "outputs": [],
      "source": [
        "import torch\n",
        "import torch.nn as nn\n",
        "import pandas as pd\n",
        "import matplotlib.pyplot as plt\n",
        "import numpy as np"
      ]
    },
    {
      "cell_type": "code",
      "source": [
        "X=torch.linspace(1,70,70).reshape(-1,1)\n",
        "print(x)\n"
      ],
      "metadata": {
        "colab": {
          "base_uri": "https://localhost:8080/"
        },
        "id": "FflaTIHZTrlG",
        "outputId": "c9940916-5a63-46da-bc48-666133aa3e85"
      },
      "execution_count": 66,
      "outputs": [
        {
          "output_type": "stream",
          "name": "stdout",
          "text": [
            "tensor([[ 1],\n",
            "        [ 2],\n",
            "        [ 3],\n",
            "        [ 4],\n",
            "        [ 5],\n",
            "        [ 6],\n",
            "        [ 7],\n",
            "        [ 8],\n",
            "        [ 9],\n",
            "        [10],\n",
            "        [11],\n",
            "        [12],\n",
            "        [13],\n",
            "        [14],\n",
            "        [15],\n",
            "        [16],\n",
            "        [17],\n",
            "        [18],\n",
            "        [19],\n",
            "        [20],\n",
            "        [21],\n",
            "        [22],\n",
            "        [23],\n",
            "        [24],\n",
            "        [25],\n",
            "        [26],\n",
            "        [27],\n",
            "        [28],\n",
            "        [29],\n",
            "        [30],\n",
            "        [31],\n",
            "        [32],\n",
            "        [33],\n",
            "        [34],\n",
            "        [35],\n",
            "        [36],\n",
            "        [37],\n",
            "        [38],\n",
            "        [39],\n",
            "        [40],\n",
            "        [41],\n",
            "        [42],\n",
            "        [43],\n",
            "        [44],\n",
            "        [45],\n",
            "        [46],\n",
            "        [47],\n",
            "        [48],\n",
            "        [49],\n",
            "        [50],\n",
            "        [51],\n",
            "        [52],\n",
            "        [53],\n",
            "        [54],\n",
            "        [55],\n",
            "        [56],\n",
            "        [57],\n",
            "        [58],\n",
            "        [59],\n",
            "        [60],\n",
            "        [61],\n",
            "        [62],\n",
            "        [63],\n",
            "        [64],\n",
            "        [65],\n",
            "        [66],\n",
            "        [67],\n",
            "        [68],\n",
            "        [69],\n",
            "        [70]])\n"
          ]
        }
      ]
    },
    {
      "cell_type": "code",
      "source": [
        "torch.manual_seed(71)\n",
        "e=torch.randint(-8,9,(70,1),dtype=torch.float)\n",
        "print(e)"
      ],
      "metadata": {
        "colab": {
          "base_uri": "https://localhost:8080/"
        },
        "id": "vyNwCElgUUO9",
        "outputId": "4cd13090-19cd-462d-bacc-811e635834a8"
      },
      "execution_count": 68,
      "outputs": [
        {
          "output_type": "stream",
          "name": "stdout",
          "text": [
            "tensor([[ 2.],\n",
            "        [ 7.],\n",
            "        [ 2.],\n",
            "        [ 6.],\n",
            "        [ 2.],\n",
            "        [-4.],\n",
            "        [ 2.],\n",
            "        [-5.],\n",
            "        [ 4.],\n",
            "        [ 1.],\n",
            "        [ 2.],\n",
            "        [ 3.],\n",
            "        [ 1.],\n",
            "        [-8.],\n",
            "        [ 5.],\n",
            "        [ 5.],\n",
            "        [-6.],\n",
            "        [ 0.],\n",
            "        [-7.],\n",
            "        [-8.],\n",
            "        [-3.],\n",
            "        [-1.],\n",
            "        [ 2.],\n",
            "        [-6.],\n",
            "        [-3.],\n",
            "        [ 3.],\n",
            "        [ 2.],\n",
            "        [ 3.],\n",
            "        [ 4.],\n",
            "        [ 5.],\n",
            "        [ 1.],\n",
            "        [ 7.],\n",
            "        [ 6.],\n",
            "        [-1.],\n",
            "        [-6.],\n",
            "        [-5.],\n",
            "        [-3.],\n",
            "        [ 7.],\n",
            "        [ 0.],\n",
            "        [ 8.],\n",
            "        [-1.],\n",
            "        [-2.],\n",
            "        [ 2.],\n",
            "        [-8.],\n",
            "        [-1.],\n",
            "        [ 6.],\n",
            "        [-8.],\n",
            "        [-3.],\n",
            "        [-7.],\n",
            "        [-2.],\n",
            "        [ 5.],\n",
            "        [ 8.],\n",
            "        [-7.],\n",
            "        [ 1.],\n",
            "        [-6.],\n",
            "        [ 8.],\n",
            "        [ 8.],\n",
            "        [ 8.],\n",
            "        [-6.],\n",
            "        [-5.],\n",
            "        [-6.],\n",
            "        [-6.],\n",
            "        [-1.],\n",
            "        [ 1.],\n",
            "        [ 2.],\n",
            "        [ 4.],\n",
            "        [-7.],\n",
            "        [ 0.],\n",
            "        [-6.],\n",
            "        [ 0.]])\n"
          ]
        }
      ]
    },
    {
      "cell_type": "code",
      "source": [
        "y=2*x+1+e\n",
        "print(y.shape)"
      ],
      "metadata": {
        "colab": {
          "base_uri": "https://localhost:8080/"
        },
        "id": "VpYFJrLGVqzA",
        "outputId": "7f92749a-e7aa-437d-93b0-86c7cb1a59d7"
      },
      "execution_count": 67,
      "outputs": [
        {
          "output_type": "stream",
          "name": "stdout",
          "text": [
            "torch.Size([70, 1])\n"
          ]
        }
      ]
    },
    {
      "cell_type": "code",
      "source": [
        "plt.scatter(x.numpy(),y.numpy(),color=\"purple\")\n",
        "plt.xlabel(\"x\")\n",
        "plt.ylabel(\"y\")\n",
        "plt.title(\"Scatter Plot of x and y\")\n",
        "plt.show()"
      ],
      "metadata": {
        "colab": {
          "base_uri": "https://localhost:8080/",
          "height": 472
        },
        "id": "lQLUD4loWWYU",
        "outputId": "25ad0708-f4a3-432e-b58b-b7c9ef14a358"
      },
      "execution_count": 69,
      "outputs": [
        {
          "output_type": "display_data",
          "data": {
            "text/plain": [
              "<Figure size 640x480 with 1 Axes>"
            ],
            "image/png": "[encoded data removed]"
          },
          "metadata": {}
        }
      ]
    },
    {
      "cell_type": "code",
      "source": [
        "torch.manual_seed(71)\n",
        "class Model(nn.Module):\n",
        "    def __init__(self, in_features, out_features):\n",
        "        super().__init__()\n",
        "        self.linear = nn.Linear(in_features, out_features)\n",
        "\n",
        "    def forward(self, x):\n",
        "        y_pred = self.linear(x)\n",
        "        return y_pred"
      ],
      "metadata": {
        "id": "oAaMBtK4X312"
      },
      "execution_count": 70,
      "outputs": []
    },
    {
      "cell_type": "code",
      "source": [
        "torch.manual_seed(71)\n",
        "model = Model(1, 1)\n",
        "print('Weight:', model.linear.weight.item())\n",
        "print('Bias:  ', model.linear.bias.item())"
      ],
      "metadata": {
        "colab": {
          "base_uri": "https://localhost:8080/"
        },
        "id": "VJz900O1Zx87",
        "outputId": "085a801a-5fed-48ce-e6ee-a7962f459ea7"
      },
      "execution_count": 71,
      "outputs": [
        {
          "output_type": "stream",
          "name": "stdout",
          "text": [
            "Weight: 0.014539122581481934\n",
            "Bias:   -0.3305763006210327\n"
          ]
        }
      ]
    },
    {
      "cell_type": "code",
      "source": [
        "loss_function = nn.MSELoss()\n",
        "optimizer = torch.optim.SGD(model.parameters(), lr=0.0001)"
      ],
      "metadata": {
        "id": "9RiWP0FpaqFo"
      },
      "execution_count": 72,
      "outputs": []
    },
    {
      "cell_type": "code",
      "source": [
        "epochs = 50\n",
        "losses = []\n",
        "\n",
        "for epoch in range(1, epochs + 1):\n",
        "    optimizer.zero_grad()\n",
        "    y_pred = model(X)\n",
        "    loss = loss_function(y_pred, y)\n",
        "    losses.append(loss.item())\n",
        "    loss.backward()\n",
        "    optimizer.step()\n",
        "    print(f'epoch: {epoch:2}  loss: {loss.item():10.8f}  '\n",
        "          f'weight: {model.linear.weight.item():10.8f}  '\n",
        "          f'bias: {model.linear.bias.item():10.8f}')\n"
      ],
      "metadata": {
        "colab": {
          "base_uri": "https://localhost:8080/"
        },
        "id": "iD8_MStya_kh",
        "outputId": "e7a1c155-1bd5-4632-c66d-c912cf9b8a8a"
      },
      "execution_count": 73,
      "outputs": [
        {
          "output_type": "stream",
          "name": "stdout",
          "text": [
            "epoch:  1  loss: 6727.25781250  weight: 0.68335736  bias: -0.31622770\n",
            "epoch:  2  loss: 2999.05200195  weight: 1.12888908  bias: -0.30663058\n",
            "epoch:  3  loss: 1344.64416504  weight: 1.42567873  bias: -0.30019864\n",
            "epoch:  4  loss: 610.49353027  weight: 1.62338400  bias: -0.29587522\n",
            "epoch:  5  loss: 284.71072388  weight: 1.75508440  bias: -0.29295635\n",
            "epoch:  6  loss: 140.14305115  weight: 1.84281552  bias: -0.29097316\n",
            "epoch:  7  loss: 75.99055481  weight: 1.90125668  bias: -0.28961325\n",
            "epoch:  8  loss: 47.52253723  weight: 1.94018638  bias: -0.28866854\n",
            "epoch:  9  loss: 34.88964081  weight: 1.96611857  bias: -0.28800040\n",
            "epoch: 10  loss: 29.28366280  weight: 1.98339248  bias: -0.28751653\n",
            "epoch: 11  loss: 26.79589462  weight: 1.99489868  bias: -0.28715539\n",
            "epoch: 12  loss: 25.69186401  weight: 2.00256276  bias: -0.28687602\n",
            "epoch: 13  loss: 25.20186234  weight: 2.00766730  bias: -0.28665113\n",
            "epoch: 14  loss: 24.98435402  weight: 2.01106691  bias: -0.28646252\n",
            "epoch: 15  loss: 24.88775635  weight: 2.01333070  bias: -0.28629810\n",
            "epoch: 16  loss: 24.84482193  weight: 2.01483774  bias: -0.28614977\n",
            "epoch: 17  loss: 24.82569313  weight: 2.01584101  bias: -0.28601217\n",
            "epoch: 18  loss: 24.81712914  weight: 2.01650834  bias: -0.28588173\n",
            "epoch: 19  loss: 24.81324577  weight: 2.01695204  bias: -0.28575605\n",
            "epoch: 20  loss: 24.81145859  weight: 2.01724696  bias: -0.28563353\n",
            "epoch: 21  loss: 24.81058502  weight: 2.01744246  bias: -0.28551313\n",
            "epoch: 22  loss: 24.81013107  weight: 2.01757193  bias: -0.28539416\n",
            "epoch: 23  loss: 24.80984306  weight: 2.01765728  bias: -0.28527611\n",
            "epoch: 24  loss: 24.80965042  weight: 2.01771331  bias: -0.28515872\n",
            "epoch: 25  loss: 24.80948067  weight: 2.01774979  bias: -0.28504175\n",
            "epoch: 26  loss: 24.80933762  weight: 2.01777339  bias: -0.28492504\n",
            "epoch: 27  loss: 24.80919075  weight: 2.01778817  bias: -0.28480855\n",
            "epoch: 28  loss: 24.80905342  weight: 2.01779723  bias: -0.28469217\n",
            "epoch: 29  loss: 24.80892181  weight: 2.01780248  bias: -0.28457588\n",
            "epoch: 30  loss: 24.80878830  weight: 2.01780510  bias: -0.28445965\n",
            "epoch: 31  loss: 24.80865288  weight: 2.01780605  bias: -0.28434345\n",
            "epoch: 32  loss: 24.80850983  weight: 2.01780581  bias: -0.28422728\n",
            "epoch: 33  loss: 24.80837822  weight: 2.01780486  bias: -0.28411114\n",
            "epoch: 34  loss: 24.80824280  weight: 2.01780343  bias: -0.28399503\n",
            "epoch: 35  loss: 24.80810547  weight: 2.01780176  bias: -0.28387892\n",
            "epoch: 36  loss: 24.80797768  weight: 2.01779962  bias: -0.28376281\n",
            "epoch: 37  loss: 24.80784035  weight: 2.01779747  bias: -0.28364673\n",
            "epoch: 38  loss: 24.80770683  weight: 2.01779509  bias: -0.28353065\n",
            "epoch: 39  loss: 24.80757332  weight: 2.01779270  bias: -0.28341457\n",
            "epoch: 40  loss: 24.80743980  weight: 2.01779032  bias: -0.28329849\n",
            "epoch: 41  loss: 24.80730247  weight: 2.01778793  bias: -0.28318244\n",
            "epoch: 42  loss: 24.80715942  weight: 2.01778555  bias: -0.28306639\n",
            "epoch: 43  loss: 24.80703163  weight: 2.01778316  bias: -0.28295034\n",
            "epoch: 44  loss: 24.80689430  weight: 2.01778078  bias: -0.28283429\n",
            "epoch: 45  loss: 24.80675888  weight: 2.01777840  bias: -0.28271824\n",
            "epoch: 46  loss: 24.80662727  weight: 2.01777577  bias: -0.28260222\n",
            "epoch: 47  loss: 24.80649185  weight: 2.01777339  bias: -0.28248620\n",
            "epoch: 48  loss: 24.80635452  weight: 2.01777101  bias: -0.28237018\n",
            "epoch: 49  loss: 24.80622292  weight: 2.01776862  bias: -0.28225416\n",
            "epoch: 50  loss: 24.80608749  weight: 2.01776600  bias: -0.28213814\n"
          ]
        }
      ]
    },
    {
      "cell_type": "code",
      "source": [
        "plt.plot(range(epochs), losses)\n",
        "plt.ylabel('Loss')\n",
        "plt.xlabel('epoch');\n",
        "plt.show()"
      ],
      "metadata": {
        "colab": {
          "base_uri": "https://localhost:8080/",
          "height": 452
        },
        "id": "WKq2BuVCdATN",
        "outputId": "50f6fffa-2507-4a5d-acb9-5ce1c1e96578"
      },
      "execution_count": 74,
      "outputs": [
        {
          "output_type": "display_data",
          "data": {
            "text/plain": [
              "<Figure size 640x480 with 1 Axes>"
            ],
            "image/png": "[encoded data removed]"
          },
          "metadata": {}
        }
      ]
    },
    {
      "cell_type": "code",
      "source": [
        "x1 = torch.tensor([X.min().item(), X.max().item()])\n",
        "w1, b1 = model.linear.weight.item(), model.linear.bias.item()\n",
        "y1 = x1 * w1 + b1"
      ],
      "metadata": {
        "id": "29Cx16zIdLfG"
      },
      "execution_count": 75,
      "outputs": []
    },
    {
      "cell_type": "code",
      "source": [
        "print(f'Final Weight: {w1:.8f}, Final Bias: {b1:.8f}')\n",
        "print(f'X range: {x1.numpy()}')\n",
        "print(f'Predicted Y values: {y1.numpy()}')"
      ],
      "metadata": {
        "colab": {
          "base_uri": "https://localhost:8080/"
        },
        "id": "Kozf6DRUdSx1",
        "outputId": "72a0bfc5-232a-418d-e37d-2dc16f6f4c89"
      },
      "execution_count": 76,
      "outputs": [
        {
          "output_type": "stream",
          "name": "stdout",
          "text": [
            "Final Weight: 2.01776600, Final Bias: -0.28213814\n",
            "X range: [ 1. 70.]\n",
            "Predicted Y values: [  1.7356279 140.96149  ]\n"
          ]
        }
      ]
    },
    {
      "cell_type": "code",
      "source": [
        "plt.scatter(X.numpy(), y.numpy(), label=\"Original Data\")\n",
        "plt.plot(x1.numpy(), y1.numpy(), 'r', label=\"Best-Fit Line\")\n",
        "plt.xlabel('x')\n",
        "plt.ylabel('y')\n",
        "plt.title('Trained Model: Best-Fit Line')\n",
        "plt.legend()\n",
        "plt.show()"
      ],
      "metadata": {
        "colab": {
          "base_uri": "https://localhost:8080/",
          "height": 472
        },
        "id": "XcMG99Y6dW4Q",
        "outputId": "3ea68203-c9d7-419b-8494-c5386d3c11a7"
      },
      "execution_count": 77,
      "outputs": [
        {
          "output_type": "display_data",
          "data": {
            "text/plain": [
              "<Figure size 640x480 with 1 Axes>"
            ],
            "image/png": "[encoded data removed]"
          },
          "metadata": {}
        }
      ]
    },
    {
      "cell_type": "code",
      "source": [
        "torch.save(model.state_dict(),'veslinanish')"
      ],
      "metadata": {
        "id": "UIJWtWOLePfk"
      },
      "execution_count": 81,
      "outputs": []
    }
  ]
}